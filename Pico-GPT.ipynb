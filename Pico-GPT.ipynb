{
 "cells": [
  {
   "cell_type": "code",
   "execution_count": 3,
   "id": "74746061",
   "metadata": {},
   "outputs": [
    {
     "name": "stdout",
     "output_type": "stream",
     "text": [
      "  % Total    % Received % Xferd  Average Speed   Time    Time     Time  Current\n",
      "                                 Dload  Upload   Total   Spent    Left  Speed\n",
      "100 1089k  100 1089k    0     0   503k      0  0:00:02  0:00:02 --:--:--  503k  0      0 --:--:-- --:--:-- --:--:--     0\n"
     ]
    }
   ],
   "source": [
    "# Loading tiny shakespeare \n",
    "!curl -O https://raw.githubusercontent.com/karpathy/char-rnn/master/data/tinyshakespeare/input.txt"
   ]
  },
  {
   "cell_type": "code",
   "execution_count": 9,
   "id": "07b912e6",
   "metadata": {},
   "outputs": [
    {
     "data": {
      "text/plain": [
       "1115394"
      ]
     },
     "execution_count": 9,
     "metadata": {},
     "output_type": "execute_result"
    }
   ],
   "source": [
    "# read it \n",
    "with open(\"input.txt\" , 'r' , encoding = 'utf-8') as f:\n",
    "    words = f.read()\n",
    "    \n",
    "len(words)"
   ]
  },
  {
   "cell_type": "code",
   "execution_count": 31,
   "id": "33f2178d",
   "metadata": {},
   "outputs": [],
   "source": [
    "# Generating the shakespearean vocabulary\n",
    "\n",
    "chars = sorted(list(set(words)))\n",
    "vocab_size = len(chars)"
   ]
  },
  {
   "cell_type": "code",
   "execution_count": 30,
   "id": "ac1ad577",
   "metadata": {},
   "outputs": [
    {
     "data": {
      "text/plain": [
       "'Hi Bro!'"
      ]
     },
     "execution_count": 30,
     "metadata": {},
     "output_type": "execute_result"
    }
   ],
   "source": [
    "# Creating the stoi and itos mappings\n",
    "\n",
    "stoi = {s:i for i , s in enumerate(chars)}\n",
    "itos = {i:s for s, i in stoi.items()}\n",
    "\n",
    "# encoding and decoding strings \n",
    "encode = lambda s : [stoi[ch] for ch in s]\n",
    "decode = lambda l : ''.join([itos[ch] for ch in l])\n",
    "\n",
    "\n",
    "encode(\"Hi Bro!\")\n",
    "decode(encode(\"Hi Bro!\"))\n",
    "\n",
    "# There is a tradeoff between sequence lenghts and codebook size ;  If codebook size is smaller like in characters\n",
    "# the sequence lenghts will be very large but if the codebook size is much larger like in GPTs then the sequence \n",
    "# length will be much shorter in comparison."
   ]
  },
  {
   "cell_type": "code",
   "execution_count": 34,
   "id": "4c322005",
   "metadata": {},
   "outputs": [
    {
     "name": "stdout",
     "output_type": "stream",
     "text": [
      "torch.Size([1115394]) torch.int64\n",
      "tensor([18, 47, 56, 57, 58,  1, 15, 47, 58, 47, 64, 43, 52, 10,  0, 14, 43, 44,\n",
      "        53, 56, 43,  1, 61, 43,  1, 54, 56, 53, 41, 43, 43, 42,  1, 39, 52, 63,\n",
      "         1, 44, 59, 56, 58, 46, 43, 56,  6,  1, 46, 43, 39, 56,  1, 51, 43,  1,\n",
      "        57, 54, 43, 39, 49,  8,  0,  0, 13, 50, 50, 10,  0, 31, 54, 43, 39, 49,\n",
      "         6,  1, 57, 54, 43, 39, 49,  8,  0,  0, 18, 47, 56, 57, 58,  1, 15, 47,\n",
      "        58, 47, 64, 43, 52, 10,  0, 37, 53, 59])\n"
     ]
    }
   ],
   "source": [
    "# Encoding the entire tiny shakespeare dataset into integers and wrap it in a torch tensor\n",
    "\n",
    "import torch\n",
    "data = torch.tensor(encode(words) , dtype = torch.long)\n",
    "print (data.shape , data.dtype)\n",
    "print (data[:100])"
   ]
  },
  {
   "cell_type": "code",
   "execution_count": 35,
   "id": "51c7c788",
   "metadata": {},
   "outputs": [],
   "source": [
    "# Creating train and cross-val sets\n",
    "\n",
    "n1 = int(len(data)* 0.9)\n",
    "\n",
    "train_data = data[:n1]\n",
    "cv_data = data[:n1]"
   ]
  },
  {
   "cell_type": "code",
   "execution_count": 38,
   "id": "da61530c",
   "metadata": {},
   "outputs": [
    {
     "data": {
      "text/plain": [
       "tensor([18, 47, 56, 57, 58,  1, 15, 47, 58])"
      ]
     },
     "execution_count": 38,
     "metadata": {},
     "output_type": "execute_result"
    }
   ],
   "source": [
    "# We would never train the transformer on the whole dataset together ; instead we will take out random chunks from \n",
    "# the dataset and then train on these. \n",
    "\n",
    "block_size = 8 # This is the length of the chunk trained on ; can also be called context_length\n",
    "\n",
    "# Say if we sample the first 9 characters ; these have 8 training examples packed into it\n",
    "\n",
    "train_data[:block_size+1]"
   ]
  },
  {
   "cell_type": "code",
   "execution_count": 45,
   "id": "87b25ed7",
   "metadata": {},
   "outputs": [
    {
     "name": "stdout",
     "output_type": "stream",
     "text": [
      "When context is tensor([18]) then the output is 47\n",
      "When context is tensor([18, 47]) then the output is 56\n",
      "When context is tensor([18, 47, 56]) then the output is 57\n",
      "When context is tensor([18, 47, 56, 57]) then the output is 58\n",
      "When context is tensor([18, 47, 56, 57, 58]) then the output is 1\n",
      "When context is tensor([18, 47, 56, 57, 58,  1]) then the output is 15\n",
      "When context is tensor([18, 47, 56, 57, 58,  1, 15]) then the output is 47\n",
      "When context is tensor([18, 47, 56, 57, 58,  1, 15, 47]) then the output is 58\n"
     ]
    }
   ],
   "source": [
    "# Showing the 8 examples as shown before \n",
    "x = train_data[:block_size]\n",
    "y = train_data[1:block_size+1]\n",
    "\n",
    "for i in range(block_size):\n",
    "    context = x[:i+1]\n",
    "    output = y[i]\n",
    "    print (f'When context is {context} then the output is {output}')\n",
    "    \n",
    "# This allows the model to transformer to learn to predict the next word when the given context is 1 char, 2 char, \n",
    "# 3 char and so on. Also the transformer cannot recieve more than block_size as the input now and beyond that \n",
    "# length if input is given, it will be truncated."
   ]
  },
  {
   "cell_type": "code",
   "execution_count": 53,
   "id": "373fd9de",
   "metadata": {
    "collapsed": true
   },
   "outputs": [
    {
     "name": "stdout",
     "output_type": "stream",
     "text": [
      "tensor([[63,  1, 57, 54, 43, 43, 42,  1],\n",
      "        [52,  1, 46, 43,  1, 42, 53, 58],\n",
      "        [ 1, 51, 39, 49, 43,  1, 39,  1],\n",
      "        [57,  1, 53, 44,  1, 45, 43, 43]])\n",
      "tensor([[ 1, 57, 54, 43, 43, 42,  1, 58],\n",
      "        [ 1, 46, 43,  1, 42, 53, 58, 46],\n",
      "        [51, 39, 49, 43,  1, 39,  1, 60],\n",
      "        [ 1, 53, 44,  1, 45, 43, 43, 57]])\n",
      "When context is tensor([63]) then the output is 1\n",
      "When context is tensor([63,  1]) then the output is 57\n",
      "When context is tensor([63,  1, 57]) then the output is 54\n",
      "When context is tensor([63,  1, 57, 54]) then the output is 43\n",
      "When context is tensor([63,  1, 57, 54, 43]) then the output is 43\n",
      "When context is tensor([63,  1, 57, 54, 43, 43]) then the output is 42\n",
      "When context is tensor([63,  1, 57, 54, 43, 43, 42]) then the output is 1\n",
      "When context is tensor([63,  1, 57, 54, 43, 43, 42,  1]) then the output is 58\n",
      "When context is tensor([52]) then the output is 1\n",
      "When context is tensor([52,  1]) then the output is 46\n",
      "When context is tensor([52,  1, 46]) then the output is 43\n",
      "When context is tensor([52,  1, 46, 43]) then the output is 1\n",
      "When context is tensor([52,  1, 46, 43,  1]) then the output is 42\n",
      "When context is tensor([52,  1, 46, 43,  1, 42]) then the output is 53\n",
      "When context is tensor([52,  1, 46, 43,  1, 42, 53]) then the output is 58\n",
      "When context is tensor([52,  1, 46, 43,  1, 42, 53, 58]) then the output is 46\n",
      "When context is tensor([1]) then the output is 51\n",
      "When context is tensor([ 1, 51]) then the output is 39\n",
      "When context is tensor([ 1, 51, 39]) then the output is 49\n",
      "When context is tensor([ 1, 51, 39, 49]) then the output is 43\n",
      "When context is tensor([ 1, 51, 39, 49, 43]) then the output is 1\n",
      "When context is tensor([ 1, 51, 39, 49, 43,  1]) then the output is 39\n",
      "When context is tensor([ 1, 51, 39, 49, 43,  1, 39]) then the output is 1\n",
      "When context is tensor([ 1, 51, 39, 49, 43,  1, 39,  1]) then the output is 60\n",
      "When context is tensor([57]) then the output is 1\n",
      "When context is tensor([57,  1]) then the output is 53\n",
      "When context is tensor([57,  1, 53]) then the output is 44\n",
      "When context is tensor([57,  1, 53, 44]) then the output is 1\n",
      "When context is tensor([57,  1, 53, 44,  1]) then the output is 45\n",
      "When context is tensor([57,  1, 53, 44,  1, 45]) then the output is 43\n",
      "When context is tensor([57,  1, 53, 44,  1, 45, 43]) then the output is 43\n",
      "When context is tensor([57,  1, 53, 44,  1, 45, 43, 43]) then the output is 57\n"
     ]
    }
   ],
   "source": [
    "torch.manual_seed(47)\n",
    "batch_size = 4 \n",
    "block_size = 8 \n",
    "\n",
    "def get_batch(split):\n",
    "    data = train_data if split == 'train' else cv_data\n",
    "    ix = torch.randint(len(data) - batch_size , (batch_size,))\n",
    "    x = torch.stack([data[i:i+block_size] for i in ix])\n",
    "    y = torch.stack([data[i+1: i+block_size+1] for i in ix])\n",
    "    return x,y\n",
    "\n",
    "\n",
    "xb, yb = get_batch('train')\n",
    "\n",
    "print(xb)\n",
    "print(yb)\n",
    "\n",
    "for b in range (batch_size): # batch dimension\n",
    "    for i in range(block_size): # time dimension\n",
    "        context = xb[b,:i+1]\n",
    "        output = yb[b,i]\n",
    "        print (f'When context is {context} then the output is {output}')"
   ]
  },
  {
   "cell_type": "code",
   "execution_count": 54,
   "id": "f7a9d43a",
   "metadata": {},
   "outputs": [],
   "source": [
    "# We will start off with the simplest model which is Bigram Language Model"
   ]
  },
  {
   "cell_type": "code",
   "execution_count": null,
   "id": "3c59a4ff",
   "metadata": {},
   "outputs": [],
   "source": []
  }
 ],
 "metadata": {
  "kernelspec": {
   "display_name": "ml",
   "language": "python",
   "name": "ml"
  },
  "language_info": {
   "codemirror_mode": {
    "name": "ipython",
    "version": 3
   },
   "file_extension": ".py",
   "mimetype": "text/x-python",
   "name": "python",
   "nbconvert_exporter": "python",
   "pygments_lexer": "ipython3",
   "version": "3.11.6"
  }
 },
 "nbformat": 4,
 "nbformat_minor": 5
}
