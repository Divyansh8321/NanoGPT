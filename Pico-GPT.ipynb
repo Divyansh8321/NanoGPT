{
 "cells": [
  {
   "cell_type": "code",
   "execution_count": 3,
   "id": "74746061",
   "metadata": {},
   "outputs": [
    {
     "name": "stdout",
     "output_type": "stream",
     "text": [
      "  % Total    % Received % Xferd  Average Speed   Time    Time     Time  Current\n",
      "                                 Dload  Upload   Total   Spent    Left  Speed\n",
      "100 1089k  100 1089k    0     0   503k      0  0:00:02  0:00:02 --:--:--  503k  0      0 --:--:-- --:--:-- --:--:--     0\n"
     ]
    }
   ],
   "source": [
    "# Loading tiny shakespeare \n",
    "!curl -O https://raw.githubusercontent.com/karpathy/char-rnn/master/data/tinyshakespeare/input.txt"
   ]
  },
  {
   "cell_type": "code",
   "execution_count": 1,
   "id": "07b912e6",
   "metadata": {},
   "outputs": [
    {
     "data": {
      "text/plain": [
       "1115394"
      ]
     },
     "execution_count": 1,
     "metadata": {},
     "output_type": "execute_result"
    }
   ],
   "source": [
    "# read it \n",
    "with open(\"input.txt\" , 'r' , encoding = 'utf-8') as f:\n",
    "    words = f.read()\n",
    "    \n",
    "len(words)"
   ]
  },
  {
   "cell_type": "code",
   "execution_count": 2,
   "id": "33f2178d",
   "metadata": {},
   "outputs": [],
   "source": [
    "# Generating the shakespearean vocabulary\n",
    "\n",
    "chars = sorted(list(set(words)))\n",
    "vocab_size = len(chars)"
   ]
  },
  {
   "cell_type": "code",
   "execution_count": 3,
   "id": "ac1ad577",
   "metadata": {},
   "outputs": [
    {
     "data": {
      "text/plain": [
       "'Hi Bro!'"
      ]
     },
     "execution_count": 3,
     "metadata": {},
     "output_type": "execute_result"
    }
   ],
   "source": [
    "# Creating the stoi and itos mappings\n",
    "\n",
    "stoi = {s:i for i , s in enumerate(chars)}\n",
    "itos = {i:s for s, i in stoi.items()}\n",
    "\n",
    "# encoding and decoding strings \n",
    "encode = lambda s : [stoi[ch] for ch in s]\n",
    "decode = lambda l : ''.join([itos[ch] for ch in l])\n",
    "\n",
    "\n",
    "encode(\"Hi Bro!\")\n",
    "decode(encode(\"Hi Bro!\"))\n",
    "\n",
    "# There is a tradeoff between sequence lenghts and codebook size ;  If codebook size is smaller like in characters\n",
    "# the sequence lenghts will be very large but if the codebook size is much larger like in GPTs then the sequence \n",
    "# length will be much shorter in comparison."
   ]
  },
  {
   "cell_type": "code",
   "execution_count": 4,
   "id": "4c322005",
   "metadata": {},
   "outputs": [
    {
     "name": "stdout",
     "output_type": "stream",
     "text": [
      "torch.Size([1115394]) torch.int64\n",
      "tensor([18, 47, 56, 57, 58,  1, 15, 47, 58, 47, 64, 43, 52, 10,  0, 14, 43, 44,\n",
      "        53, 56, 43,  1, 61, 43,  1, 54, 56, 53, 41, 43, 43, 42,  1, 39, 52, 63,\n",
      "         1, 44, 59, 56, 58, 46, 43, 56,  6,  1, 46, 43, 39, 56,  1, 51, 43,  1,\n",
      "        57, 54, 43, 39, 49,  8,  0,  0, 13, 50, 50, 10,  0, 31, 54, 43, 39, 49,\n",
      "         6,  1, 57, 54, 43, 39, 49,  8,  0,  0, 18, 47, 56, 57, 58,  1, 15, 47,\n",
      "        58, 47, 64, 43, 52, 10,  0, 37, 53, 59])\n"
     ]
    }
   ],
   "source": [
    "# Encoding the entire tiny shakespeare dataset into integers and wrap it in a torch tensor\n",
    "\n",
    "import torch\n",
    "data = torch.tensor(encode(words) , dtype = torch.long)\n",
    "print (data.shape , data.dtype)\n",
    "print (data[:100])"
   ]
  },
  {
   "cell_type": "code",
   "execution_count": 5,
   "id": "51c7c788",
   "metadata": {},
   "outputs": [],
   "source": [
    "# Creating train and cross-val sets\n",
    "\n",
    "n1 = int(len(data)* 0.9)\n",
    "\n",
    "train_data = data[:n1]\n",
    "cv_data = data[:n1]"
   ]
  },
  {
   "cell_type": "code",
   "execution_count": 6,
   "id": "da61530c",
   "metadata": {},
   "outputs": [
    {
     "data": {
      "text/plain": [
       "tensor([18, 47, 56, 57, 58,  1, 15, 47, 58])"
      ]
     },
     "execution_count": 6,
     "metadata": {},
     "output_type": "execute_result"
    }
   ],
   "source": [
    "# We would never train the transformer on the whole dataset together ; instead we will take out random chunks from \n",
    "# the dataset and then train on these. \n",
    "\n",
    "block_size = 8 # This is the length of the chunk trained on ; can also be called context_length\n",
    "\n",
    "# Say if we sample the first 9 characters ; these have 8 training examples packed into it\n",
    "\n",
    "train_data[:block_size+1]"
   ]
  },
  {
   "cell_type": "code",
   "execution_count": 7,
   "id": "87b25ed7",
   "metadata": {},
   "outputs": [
    {
     "name": "stdout",
     "output_type": "stream",
     "text": [
      "When context is tensor([18]) then the output is 47\n",
      "When context is tensor([18, 47]) then the output is 56\n",
      "When context is tensor([18, 47, 56]) then the output is 57\n",
      "When context is tensor([18, 47, 56, 57]) then the output is 58\n",
      "When context is tensor([18, 47, 56, 57, 58]) then the output is 1\n",
      "When context is tensor([18, 47, 56, 57, 58,  1]) then the output is 15\n",
      "When context is tensor([18, 47, 56, 57, 58,  1, 15]) then the output is 47\n",
      "When context is tensor([18, 47, 56, 57, 58,  1, 15, 47]) then the output is 58\n"
     ]
    }
   ],
   "source": [
    "# Showing the 8 examples as shown before \n",
    "x = train_data[:block_size]\n",
    "y = train_data[1:block_size+1]\n",
    "\n",
    "for i in range(block_size):\n",
    "    context = x[:i+1]\n",
    "    output = y[i]\n",
    "    print (f'When context is {context} then the output is {output}')\n",
    "    \n",
    "# This allows the model to transformer to learn to predict the next word when the given context is 1 char, 2 char, \n",
    "# 3 char and so on. Also the transformer cannot recieve more than block_size as the input now and beyond that \n",
    "# length if input is given, it will be truncated."
   ]
  },
  {
   "cell_type": "code",
   "execution_count": 8,
   "id": "373fd9de",
   "metadata": {},
   "outputs": [
    {
     "name": "stdout",
     "output_type": "stream",
     "text": [
      "tensor([[63,  1, 57, 54, 43, 43, 42,  1],\n",
      "        [52,  1, 46, 43,  1, 42, 53, 58],\n",
      "        [ 1, 51, 39, 49, 43,  1, 39,  1],\n",
      "        [57,  1, 53, 44,  1, 45, 43, 43]])\n",
      "tensor([[ 1, 57, 54, 43, 43, 42,  1, 58],\n",
      "        [ 1, 46, 43,  1, 42, 53, 58, 46],\n",
      "        [51, 39, 49, 43,  1, 39,  1, 60],\n",
      "        [ 1, 53, 44,  1, 45, 43, 43, 57]])\n",
      "When context is tensor([63]) then the output is 1\n",
      "When context is tensor([63,  1]) then the output is 57\n",
      "When context is tensor([63,  1, 57]) then the output is 54\n",
      "When context is tensor([63,  1, 57, 54]) then the output is 43\n",
      "When context is tensor([63,  1, 57, 54, 43]) then the output is 43\n",
      "When context is tensor([63,  1, 57, 54, 43, 43]) then the output is 42\n",
      "When context is tensor([63,  1, 57, 54, 43, 43, 42]) then the output is 1\n",
      "When context is tensor([63,  1, 57, 54, 43, 43, 42,  1]) then the output is 58\n",
      "When context is tensor([52]) then the output is 1\n",
      "When context is tensor([52,  1]) then the output is 46\n",
      "When context is tensor([52,  1, 46]) then the output is 43\n",
      "When context is tensor([52,  1, 46, 43]) then the output is 1\n",
      "When context is tensor([52,  1, 46, 43,  1]) then the output is 42\n",
      "When context is tensor([52,  1, 46, 43,  1, 42]) then the output is 53\n",
      "When context is tensor([52,  1, 46, 43,  1, 42, 53]) then the output is 58\n",
      "When context is tensor([52,  1, 46, 43,  1, 42, 53, 58]) then the output is 46\n",
      "When context is tensor([1]) then the output is 51\n",
      "When context is tensor([ 1, 51]) then the output is 39\n",
      "When context is tensor([ 1, 51, 39]) then the output is 49\n",
      "When context is tensor([ 1, 51, 39, 49]) then the output is 43\n",
      "When context is tensor([ 1, 51, 39, 49, 43]) then the output is 1\n",
      "When context is tensor([ 1, 51, 39, 49, 43,  1]) then the output is 39\n",
      "When context is tensor([ 1, 51, 39, 49, 43,  1, 39]) then the output is 1\n",
      "When context is tensor([ 1, 51, 39, 49, 43,  1, 39,  1]) then the output is 60\n",
      "When context is tensor([57]) then the output is 1\n",
      "When context is tensor([57,  1]) then the output is 53\n",
      "When context is tensor([57,  1, 53]) then the output is 44\n",
      "When context is tensor([57,  1, 53, 44]) then the output is 1\n",
      "When context is tensor([57,  1, 53, 44,  1]) then the output is 45\n",
      "When context is tensor([57,  1, 53, 44,  1, 45]) then the output is 43\n",
      "When context is tensor([57,  1, 53, 44,  1, 45, 43]) then the output is 43\n",
      "When context is tensor([57,  1, 53, 44,  1, 45, 43, 43]) then the output is 57\n"
     ]
    }
   ],
   "source": [
    "torch.manual_seed(47)\n",
    "batch_size = 4 \n",
    "block_size = 8 \n",
    "\n",
    "def get_batch(split):\n",
    "    data = train_data if split == 'train' else cv_data\n",
    "    ix = torch.randint(len(data) - batch_size , (batch_size,))\n",
    "    x = torch.stack([data[i:i+block_size] for i in ix])\n",
    "    y = torch.stack([data[i+1: i+block_size+1] for i in ix])\n",
    "    return x,y\n",
    "\n",
    "\n",
    "xb, yb = get_batch('train')\n",
    "\n",
    "print(xb)\n",
    "print(yb)\n",
    "\n",
    "for b in range (batch_size): # batch dimension\n",
    "    for i in range(block_size): # time dimension\n",
    "        context = xb[b,:i+1]\n",
    "        output = yb[b,i]\n",
    "        print (f'When context is {context} then the output is {output}')"
   ]
  },
  {
   "cell_type": "code",
   "execution_count": 32,
   "id": "f7a9d43a",
   "metadata": {},
   "outputs": [
    {
     "name": "stdout",
     "output_type": "stream",
     "text": [
      "tensor(4.6156, grad_fn=<NllLossBackward0>)\n",
      "\n",
      "o$,q&IWqW&xtCjaB?ij&bYRGkF?b; f ,CbwhtERCIfuWr,DzJERjhLlVaF&EjffPHDFcNoGIG'&$qXisWTkJPw\n",
      " ,b Xgx?D3sj\n"
     ]
    }
   ],
   "source": [
    "# We will start off with the simplest model which is Bigram Language Model\n",
    "import torch.nn as nn\n",
    "from torch.nn import functional as F\n",
    "torch.manual_seed(42)\n",
    "\n",
    "class BigramLanguageModel(nn.Module):\n",
    "    \n",
    "    def __init__(self, vocab_size):\n",
    "        super().__init__()\n",
    "        self.token_embedding_table = nn.Embedding(vocab_size , vocab_size)\n",
    "        \n",
    "    def forward(self, idx , targets = None):\n",
    "        \n",
    "        # idx and targets bring B, T and the embedding table brings the dimension C\n",
    "        logits = self.token_embedding_table(idx) # B, T, C\n",
    "            \n",
    "        if targets is None :\n",
    "            loss = None \n",
    "        else :\n",
    "            B,T,C = logits.shape  \n",
    "            # loss = F.cross_entropy(logits, targets)  This won't work because pytorch expects logits in the form B,C,T                 \n",
    "            loss = F.cross_entropy(logits.view(B*T,C) , targets.view(B*T))    \n",
    "            # Now channel dimensional is the second dimension as expected and targets becomes B*T instead of B,T \n",
    "\n",
    "        return logits , loss  \n",
    "\n",
    "    def generate(self, idx, max_tokens): # This will sort of do the next word prediction till it generates\n",
    "    # max_tokens \n",
    "    \n",
    "        for _ in range(max_tokens):\n",
    "            # idx is B, T\n",
    "            logits , _ = self(idx)\n",
    "            # focusing only on the last time step \n",
    "            logits = logits[: , -1 , :] # becomes B, C \n",
    "            # applyig softmax \n",
    "            probs = F.softmax(logits , dim = 1) # also B, C\n",
    "            # predict the next character in the sequence \n",
    "            idx_next = torch.multinomial(probs , num_samples = 1) # B, 1\n",
    "            # append the predicted the character to the current sequence \n",
    "            idx = torch.cat((idx , idx_next), dim = 1) # B, T+1\n",
    "        return idx \n",
    "        \n",
    "m = BigramLanguageModel(vocab_size)\n",
    "logits , loss = m(xb , yb) \n",
    "loss # To get an good initial guess it should be -log(1/65) ~ 4.17\n",
    "\n",
    "print (loss)\n",
    "\n",
    "idx = torch.zeros((1,1) , dtype = torch.long) # Starting with 0 here is a good assumption since it represents the\n",
    "# next line character in the vocab.\n",
    "print(decode(m.generate(idx , max_tokens = 100)[0].tolist()))"
   ]
  },
  {
   "cell_type": "code",
   "execution_count": 34,
   "id": "76111c3d",
   "metadata": {},
   "outputs": [],
   "source": [
    "# create the learning rate optimizer \n",
    "optimizer = torch.optim.AdamW(m.parameters() , lr = 1e-3)"
   ]
  },
  {
   "cell_type": "code",
   "execution_count": 43,
   "id": "3c59a4ff",
   "metadata": {},
   "outputs": [
    {
     "name": "stdout",
     "output_type": "stream",
     "text": [
      "2.383336067199707\n"
     ]
    }
   ],
   "source": [
    "# training the bigram model \n",
    "\n",
    "batch_size = 32\n",
    "for steps in range(10000):\n",
    "    \n",
    "    # sample a batch of data \n",
    "    xb , yb = get_batch('train')\n",
    "    \n",
    "    # evaluate the loss \n",
    "    logits , loss = m(xb,yb)\n",
    "    \n",
    "    # backprop \n",
    "    optimizer.zero_grad(set_to_none = True)\n",
    "    loss.backward()\n",
    "    optimizer.step()\n",
    "    \n",
    "print(loss.item())"
   ]
  },
  {
   "cell_type": "code",
   "execution_count": 45,
   "id": "9d2a2925",
   "metadata": {},
   "outputs": [
    {
     "name": "stdout",
     "output_type": "stream",
     "text": [
      "\n",
      "ORondorcon y fle hel's t y d ie arthesa wbeve, noife ane doke.\n",
      "dirend; otichedere, lly my, w t tined\n",
      "Aspathare tove ge inowhid a ork's ith't med seertho stthive.\n",
      "ARI t mend gh ot f pak.\n",
      "LENUKI:\n",
      "O wh bowischy!\n",
      "MAnd hrtomistonghemyou e, beathof youn, o, cheng'tof por we y,\n",
      "OMed ne y, mieyownd t wo ke:\n"
     ]
    }
   ],
   "source": [
    "print(decode(m.generate(idx , max_tokens = 300)[0].tolist())) # Getting something reasonablish\n",
    "\n",
    "# Currently the tokens are not talking to each other ; we are only looking at the previous charactr and making the \n",
    "# prediction based on that."
   ]
  },
  {
   "cell_type": "code",
   "execution_count": 46,
   "id": "03aced5a",
   "metadata": {},
   "outputs": [],
   "source": [
    "# After this the code has been transferred to a python script and the intuition and thought process for some things\n",
    "# will be added here "
   ]
  },
  {
   "cell_type": "code",
   "execution_count": 5,
   "id": "a0e118db",
   "metadata": {},
   "outputs": [
    {
     "data": {
      "text/plain": [
       "torch.Size([4, 8, 2])"
      ]
     },
     "execution_count": 5,
     "metadata": {},
     "output_type": "execute_result"
    }
   ],
   "source": [
    "# Understand the mathematical trick of self-attention\n",
    "\n",
    "# First we will simply consider attention being taking the average of all the previous and this term ; this is just\n",
    "# a simple way to start with\n",
    "\n",
    "# making the demonstration example \n",
    "import torch \n",
    "\n",
    "torch.manual_seed(43)\n",
    "B , T , C = 4, 8,2\n",
    "x = torch.randn(4, 8, 2)\n",
    "x.shape"
   ]
  },
  {
   "cell_type": "code",
   "execution_count": 12,
   "id": "7c437ba4",
   "metadata": {},
   "outputs": [
    {
     "name": "stdout",
     "output_type": "stream",
     "text": [
      "torch.Size([8, 2])\n",
      "torch.Size([4, 8, 2])\n"
     ]
    }
   ],
   "source": [
    "# We want x[b,t] = mean (i<=t )(x(b,i))\n",
    "\n",
    "# Method 1:\n",
    "\n",
    "xbow = torch.zeros(4, 8, 2)\n",
    "B,T,C = xbow.shape\n",
    "for b in range(B):\n",
    "    for t in range(T):\n",
    "        xprev = x[b,:t+1] # T,C \n",
    "        xbow[b,t] = torch.mean(xprev, 0)\n",
    "print (xprev.shape)\n",
    "print (xbow.shape)"
   ]
  },
  {
   "cell_type": "code",
   "execution_count": 17,
   "id": "53cee3de",
   "metadata": {},
   "outputs": [
    {
     "data": {
      "text/plain": [
       "True"
      ]
     },
     "execution_count": 17,
     "metadata": {},
     "output_type": "execute_result"
    }
   ],
   "source": [
    "# Method 2: Matrix multiply allows us to easily do what we want ; tril is just lower triangular matrix \n",
    "\n",
    "wei = torch.tril(torch.ones(T,T))\n",
    "wei = wei/wei.sum(1, keepdim = True)\n",
    "xbow2 = wei @ x # (B , T , T) @ (B , T , C) = (B , T , C) ; B was braodcasted to the matrix mult takes place across\n",
    "# T and C\n",
    "\n",
    "xbow2.shape\n",
    "torch.allclose(xbow , xbow2)"
   ]
  },
  {
   "cell_type": "code",
   "execution_count": 26,
   "id": "ff34add9",
   "metadata": {},
   "outputs": [
    {
     "data": {
      "text/plain": [
       "True"
      ]
     },
     "execution_count": 26,
     "metadata": {},
     "output_type": "execute_result"
    }
   ],
   "source": [
    "# Method 3: Using Softmax and the final method\n",
    "from torch.nn import functional as F\n",
    "\n",
    "\n",
    "tril = torch.tril(torch.ones(T,T))\n",
    "wei = torch.zeros(T,T) # This here represents the affinity or the interaction strength \n",
    "wei = wei.masked_fill(tril == 0 , float('-inf'))\n",
    "wei = F.softmax(wei , dim = 1)\n",
    "xbow3 = wei @ x\n",
    "torch.allclose(xbow2,xbow3)\n",
    "\n",
    "# We will be using this because it will allow us to first have any weights and then using the tril and the \n",
    "# masked_fill what it does basically is restrict it to only attend to the previous time steps and then \n",
    "# softmax allows it to sort of take a weighted average since the terms with infinity will go to zero."
   ]
  },
  {
   "cell_type": "code",
   "execution_count": 24,
   "id": "df8ff1c2",
   "metadata": {},
   "outputs": [
    {
     "data": {
      "text/plain": [
       "tensor([[1.0000, 0.0000, 0.0000, 0.0000, 0.0000, 0.0000, 0.0000, 0.0000],\n",
       "        [0.5000, 0.5000, 0.0000, 0.0000, 0.0000, 0.0000, 0.0000, 0.0000],\n",
       "        [0.3333, 0.3333, 0.3333, 0.0000, 0.0000, 0.0000, 0.0000, 0.0000],\n",
       "        [0.2500, 0.2500, 0.2500, 0.2500, 0.0000, 0.0000, 0.0000, 0.0000],\n",
       "        [0.2000, 0.2000, 0.2000, 0.2000, 0.2000, 0.0000, 0.0000, 0.0000],\n",
       "        [0.1667, 0.1667, 0.1667, 0.1667, 0.1667, 0.1667, 0.0000, 0.0000],\n",
       "        [0.1429, 0.1429, 0.1429, 0.1429, 0.1429, 0.1429, 0.1429, 0.0000],\n",
       "        [0.1250, 0.1250, 0.1250, 0.1250, 0.1250, 0.1250, 0.1250, 0.1250]])"
      ]
     },
     "execution_count": 24,
     "metadata": {},
     "output_type": "execute_result"
    }
   ],
   "source": [
    "wei"
   ]
  },
  {
   "cell_type": "code",
   "execution_count": null,
   "id": "bfcb9968",
   "metadata": {},
   "outputs": [],
   "source": []
  }
 ],
 "metadata": {
  "kernelspec": {
   "display_name": "ml",
   "language": "python",
   "name": "ml"
  },
  "language_info": {
   "codemirror_mode": {
    "name": "ipython",
    "version": 3
   },
   "file_extension": ".py",
   "mimetype": "text/x-python",
   "name": "python",
   "nbconvert_exporter": "python",
   "pygments_lexer": "ipython3",
   "version": "3.11.6"
  }
 },
 "nbformat": 4,
 "nbformat_minor": 5
}
